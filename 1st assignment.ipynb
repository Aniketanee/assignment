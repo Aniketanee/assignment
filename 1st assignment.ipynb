{
 "cells": [
  {
   "cell_type": "markdown",
   "id": "a8f37152-e571-451b-aefa-e9219de21b7a",
   "metadata": {},
   "source": [
    "           Assignment - 1"
   ]
  },
  {
   "cell_type": "markdown",
   "id": "f795c589-0ad2-4d54-9ae2-b1158d4307ea",
   "metadata": {},
   "source": [
    "Question .1"
   ]
  },
  {
   "cell_type": "markdown",
   "id": "62a48959-fdcb-408e-9e7b-9f5293d15f3e",
   "metadata": {},
   "source": [
    "a =(3113,3421 ,1232.344 , \"aniket\")"
   ]
  },
  {
   "cell_type": "markdown",
   "id": "8de23d40-2e76-4d47-9fdc-bc2d2e08673c",
   "metadata": {},
   "source": [
    "type(a)"
   ]
  },
  {
   "cell_type": "markdown",
   "id": "806eee4d-4e4d-4dc9-8d9b-c85c860f2128",
   "metadata": {},
   "source": [
    "Question .2\n"
   ]
  },
  {
   "cell_type": "code",
   "execution_count": 7,
   "id": "e1a4fb38-ff4c-4e59-ac9d-8c76f9432db0",
   "metadata": {},
   "outputs": [],
   "source": [
    "var4=1."
   ]
  },
  {
   "cell_type": "code",
   "execution_count": 8,
   "id": "34a3466b-def9-4b86-b67e-6fa4c4ee91c5",
   "metadata": {},
   "outputs": [
    {
     "data": {
      "text/plain": [
       "float"
      ]
     },
     "execution_count": 8,
     "metadata": {},
     "output_type": "execute_result"
    }
   ],
   "source": [
    "type(var4)"
   ]
  },
  {
   "cell_type": "markdown",
   "id": "5455f198-615e-4189-b4ea-3de2e3eb7f30",
   "metadata": {},
   "source": [
    "Question . 3"
   ]
  },
  {
   "cell_type": "markdown",
   "id": "bba53d76-ef06-439f-968b-63868a069fb1",
   "metadata": {},
   "source": [
    "(1) /  -  the '/' operator is primarily used for division. It performs division between two numbers and returns the quotient as a floating-point number , below is example ."
   ]
  },
  {
   "cell_type": "code",
   "execution_count": 11,
   "id": "02b683c8-0e5d-4b0a-be6e-44a0b170f58a",
   "metadata": {},
   "outputs": [
    {
     "data": {
      "text/plain": [
       "10.0"
      ]
     },
     "execution_count": 11,
     "metadata": {},
     "output_type": "execute_result"
    }
   ],
   "source": [
    "100/10"
   ]
  },
  {
   "cell_type": "markdown",
   "id": "45865f9d-ba31-441c-8e91-99f9f60298b8",
   "metadata": {},
   "source": [
    "(2)% - he symbol '%' is used as the modulus operator. It is an arithmetic operator that returns the remainder when one number is divided by another, below is some example ."
   ]
  },
  {
   "cell_type": "code",
   "execution_count": 12,
   "id": "35923f85-6d9a-442a-a508-d1c102795a5e",
   "metadata": {},
   "outputs": [
    {
     "data": {
      "text/plain": [
       "0"
      ]
     },
     "execution_count": 12,
     "metadata": {},
     "output_type": "execute_result"
    }
   ],
   "source": [
    "125%5"
   ]
  },
  {
   "cell_type": "code",
   "execution_count": 13,
   "id": "25791353-1559-4cdf-961b-659eddb51600",
   "metadata": {},
   "outputs": [
    {
     "data": {
      "text/plain": [
       "3"
      ]
     },
     "execution_count": 13,
     "metadata": {},
     "output_type": "execute_result"
    }
   ],
   "source": [
    "123%5"
   ]
  },
  {
   "cell_type": "markdown",
   "id": "1dd24925-b96f-4081-824a-1cc7af5f67b8",
   "metadata": {},
   "source": [
    "(3) //-'//' is used as the floor division operator. It performs division between two numbers and returns the quotient as an integer, rounded down towards negative infinity, below some example."
   ]
  },
  {
   "cell_type": "code",
   "execution_count": 14,
   "id": "7c818b83-4751-4cbc-867f-c52bdb3247bc",
   "metadata": {},
   "outputs": [
    {
     "data": {
      "text/plain": [
       "73"
      ]
     },
     "execution_count": 14,
     "metadata": {},
     "output_type": "execute_result"
    }
   ],
   "source": [
    "443//6"
   ]
  },
  {
   "cell_type": "code",
   "execution_count": 15,
   "id": "0e29c496-d839-497c-93c1-328619292664",
   "metadata": {},
   "outputs": [
    {
     "data": {
      "text/plain": [
       "1"
      ]
     },
     "execution_count": 15,
     "metadata": {},
     "output_type": "execute_result"
    }
   ],
   "source": [
    "5//4"
   ]
  },
  {
   "cell_type": "markdown",
   "id": "c94703ae-118c-41c4-b52d-f265f12d5f7b",
   "metadata": {},
   "source": [
    "(4)** -'**' operator is used for exponentiation, which raises a number to a power. It calculates the value of the left operand raised to the power of the right operand , below some example."
   ]
  },
  {
   "cell_type": "code",
   "execution_count": 16,
   "id": "7bddea8c-076e-4924-860a-539cd3a8649e",
   "metadata": {},
   "outputs": [
    {
     "data": {
      "text/plain": [
       "1"
      ]
     },
     "execution_count": 16,
     "metadata": {},
     "output_type": "execute_result"
    }
   ],
   "source": [
    "1**3"
   ]
  },
  {
   "cell_type": "code",
   "execution_count": 18,
   "id": "cb95b707-9cec-43ab-96dd-c241a917c361",
   "metadata": {},
   "outputs": [
    {
     "data": {
      "text/plain": [
       "8"
      ]
     },
     "execution_count": 18,
     "metadata": {},
     "output_type": "execute_result"
    }
   ],
   "source": [
    "2**3"
   ]
  },
  {
   "cell_type": "markdown",
   "id": "791ea89f-4bff-4610-b112-8d82160b2672",
   "metadata": {},
   "source": [
    "Question . 4"
   ]
  },
  {
   "cell_type": "code",
   "execution_count": 24,
   "id": "69320de1-3368-4b67-be04-d32e4b4952c0",
   "metadata": {},
   "outputs": [
    {
     "name": "stdout",
     "output_type": "stream",
     "text": [
      "Element: 10.5, Data Type: <class 'int'>\n",
      "Element: 10.5, Data Type: <class 'str'>\n",
      "Element: 10.5, Data Type: <class 'float'>\n",
      "Element: 10.5, Data Type: <class 'bool'>\n",
      "Element: 10.5, Data Type: <class 'list'>\n",
      "Element: 10.5, Data Type: <class 'dict'>\n",
      "Element: 10.5, Data Type: <class 'NoneType'>\n",
      "Element: 10.5, Data Type: <class 'bool'>\n",
      "Element: 10.5, Data Type: <class 'float'>\n"
     ]
    }
   ],
   "source": [
    "my_list = [16, \"ANIKET\", 3.14, True, [1, 2, 3], {\"name\": \"Anee\", \"age\": 24}, None , False, 10.5]\n",
    "\n",
    "for a in my_list:\n",
    "    print(f\"Element: {element}, Data Type: {type(a)}\")\n"
   ]
  },
  {
   "cell_type": "markdown",
   "id": "919a1a4e-7d0f-479b-9fdd-9df8bdf81688",
   "metadata": {},
   "source": [
    "Question .5"
   ]
  },
  {
   "cell_type": "code",
   "execution_count": 28,
   "id": "835d3693-7b05-4c82-8972-fc0f045a07c4",
   "metadata": {},
   "outputs": [
    {
     "name": "stdout",
     "output_type": "stream",
     "text": [
      "3 times\n"
     ]
    }
   ],
   "source": [
    "a = 1000\n",
    "b = 2\n",
    "count = 0\n",
    "\n",
    "while a % b == 0:\n",
    "    a = a / b\n",
    "    count += 1\n",
    "\n",
    "print(f\"{count} times\")\n",
    "\n"
   ]
  },
  {
   "cell_type": "markdown",
   "id": "a37c6534-b790-4a62-8067-3b9c307fef06",
   "metadata": {},
   "source": [
    "Question .5"
   ]
  },
  {
   "cell_type": "code",
   "execution_count": 43,
   "id": "8576789b-dbc2-49ad-ad1f-4a11de3effaf",
   "metadata": {},
   "outputs": [
    {
     "name": "stdout",
     "output_type": "stream",
     "text": [
      "21 is divisible by 3\n",
      "34 is not divisible by 3\n",
      "56 is not divisible by 3\n",
      "24 is divisible by 3\n",
      "53 is not divisible by 3\n",
      "56 is not divisible by 3\n",
      "78 is divisible by 3\n",
      "3 is divisible by 3\n",
      "4 is not divisible by 3\n",
      "5 is not divisible by 3\n",
      "6 is divisible by 3\n",
      "1 is not divisible by 3\n",
      "67 is not divisible by 3\n",
      "86 is not divisible by 3\n",
      "456 is divisible by 3\n",
      "7865 is not divisible by 3\n",
      "32234 is not divisible by 3\n",
      "6767 is not divisible by 3\n",
      "2446 is not divisible by 3\n",
      "786454 is not divisible by 3\n",
      "664 is not divisible by 3\n",
      "77654 is not divisible by 3\n",
      "7 is not divisible by 3\n",
      "456 is divisible by 3\n",
      "98765 is not divisible by 3\n"
     ]
    }
   ],
   "source": [
    "l = [21,34,56,24,53,56,78,3,4,5,6,1,67,86,456,7865,32234,6767,2446,786454,664,77654,7,456,98765]\n",
    "\n",
    "for k in l:\n",
    "    if k % 3 == 0:\n",
    "        print(f\"{k} is divisible by 3\")\n",
    "    else:\n",
    "        print(f\"{k} is not divisible by 3\")\n"
   ]
  },
  {
   "cell_type": "markdown",
   "id": "733e9f51-1726-40af-aaf9-95058bc309d0",
   "metadata": {},
   "source": [
    "Question .7"
   ]
  },
  {
   "cell_type": "markdown",
   "id": "d71ffa00-b44e-48d6-84cf-e97057326e44",
   "metadata": {},
   "source": [
    "Mutable - Mutable data types in Python are objects whose values can be changed after they are created. This means that the state of a mutable object can be modified by directly altering its properties or elements. Example is below"
   ]
  },
  {
   "cell_type": "code",
   "execution_count": 44,
   "id": "bb34ed9d-6dd7-4624-b115-e3f180960891",
   "metadata": {},
   "outputs": [],
   "source": [
    "l =[3,5,7,85,745,43,875,\"aniket\",True , 43.75]"
   ]
  },
  {
   "cell_type": "code",
   "execution_count": 45,
   "id": "5160b340-9808-4085-a292-316d3f65315c",
   "metadata": {},
   "outputs": [
    {
     "data": {
      "text/plain": [
       "[3, 5, 7, 85, 745, 43, 875, 'aniket', True, 43.75]"
      ]
     },
     "execution_count": 45,
     "metadata": {},
     "output_type": "execute_result"
    }
   ],
   "source": [
    "l"
   ]
  },
  {
   "cell_type": "code",
   "execution_count": 48,
   "id": "f7cf3b20-7374-40b6-ab48-9cf70f5b33df",
   "metadata": {},
   "outputs": [],
   "source": [
    "l[6]=300"
   ]
  },
  {
   "cell_type": "code",
   "execution_count": 49,
   "id": "541c0e22-a143-44cb-82e2-80c4b446d4b2",
   "metadata": {},
   "outputs": [
    {
     "data": {
      "text/plain": [
       "[3, 5, 7, 85, 745, 43, 300, 'aniket', True, 43.75]"
      ]
     },
     "execution_count": 49,
     "metadata": {},
     "output_type": "execute_result"
    }
   ],
   "source": [
    "l"
   ]
  },
  {
   "cell_type": "markdown",
   "id": "a32079c1-f8e9-43b9-8efe-cd7fda289ccb",
   "metadata": {},
   "source": [
    "Immutable -An immutable object refers to an object whose state cannot be changed once it is created. Immutable objects are known for their unalterable nature, meaning that any attempt to modify an immutable object will result in the creation of a new object with the desired changes, rather than modifying the original object itself. Examble is below"
   ]
  },
  {
   "cell_type": "code",
   "execution_count": 50,
   "id": "ed5f5c4a-7bb1-4ba2-bb0d-3e3c8fc1c737",
   "metadata": {},
   "outputs": [],
   "source": [
    "a = \"aniket\""
   ]
  },
  {
   "cell_type": "code",
   "execution_count": 51,
   "id": "bd02f927-e848-47f0-8274-f442e36e78e4",
   "metadata": {},
   "outputs": [
    {
     "ename": "TypeError",
     "evalue": "'str' object does not support item assignment",
     "output_type": "error",
     "traceback": [
      "\u001b[0;31m---------------------------------------------------------------------------\u001b[0m",
      "\u001b[0;31mTypeError\u001b[0m                                 Traceback (most recent call last)",
      "Cell \u001b[0;32mIn[51], line 1\u001b[0m\n\u001b[0;32m----> 1\u001b[0m \u001b[43ma\u001b[49m\u001b[43m[\u001b[49m\u001b[38;5;241;43m5\u001b[39;49m\u001b[43m]\u001b[49m\u001b[38;5;241m=\u001b[39m\u001b[38;5;124m'\u001b[39m\u001b[38;5;124mh\u001b[39m\u001b[38;5;124m'\u001b[39m\n",
      "\u001b[0;31mTypeError\u001b[0m: 'str' object does not support item assignment"
     ]
    }
   ],
   "source": [
    "a[5]='h'"
   ]
  },
  {
   "cell_type": "code",
   "execution_count": null,
   "id": "86f19d23-c0fe-435d-805f-43aaf97aabe2",
   "metadata": {},
   "outputs": [],
   "source": []
  }
 ],
 "metadata": {
  "kernelspec": {
   "display_name": "Python 3 (ipykernel)",
   "language": "python",
   "name": "python3"
  },
  "language_info": {
   "codemirror_mode": {
    "name": "ipython",
    "version": 3
   },
   "file_extension": ".py",
   "mimetype": "text/x-python",
   "name": "python",
   "nbconvert_exporter": "python",
   "pygments_lexer": "ipython3",
   "version": "3.10.8"
  }
 },
 "nbformat": 4,
 "nbformat_minor": 5
}
